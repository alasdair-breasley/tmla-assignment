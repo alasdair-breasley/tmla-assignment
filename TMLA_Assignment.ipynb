{
 "cells": [
  {
   "cell_type": "code",
   "execution_count": 1,
   "metadata": {},
   "outputs": [],
   "source": [
    "NAME = \"Alasdair Breasley\"\n",
    "CIS_USERNAME = \"fmcv76\""
   ]
  },
  {
   "cell_type": "markdown",
   "metadata": {},
   "source": [
    "---"
   ]
  },
  {
   "cell_type": "markdown",
   "metadata": {
    "deletable": false,
    "editable": false,
    "nbgrader": {
     "cell_type": "markdown",
     "checksum": "c2ed8244d1822167b9619a27c5056a2d",
     "grade": false,
     "grade_id": "cell-c772e32fbd55cccd",
     "locked": true,
     "schema_version": 3,
     "solution": false,
     "task": false
    }
   },
   "source": [
    "# COMP42415 Text Mining and Language Analytics\n",
    "## Coursework 2023-24\n",
    "\n",
    "### Instructions:\n",
    "\n",
    "- <ins>**DO NOT RENAME THIS JUPYTER NOTEBOOK !!!**</ins>\n",
    "- Please write the answers for each question in the respective cell. \n",
    "- You can add more cells if needed.\n",
    "- If needed, you can upload additional files, e.g. pre-trained word embeddings, in the coursework's directory\n",
    "- You can safely remove the `raise NotImplementedError()` line from each code cell.\n",
    "- You can find information about markdown syntax from [here](https://www.markdownguide.org/basic-syntax/#emphasis)."
   ]
  },
  {
   "cell_type": "code",
   "execution_count": 2,
   "metadata": {},
   "outputs": [
    {
     "name": "stderr",
     "output_type": "stream",
     "text": [
      "<ipython-input-2-9b8727ad053b>:3: DeprecationWarning: \n",
      "Pyarrow will become a required dependency of pandas in the next major release of pandas (pandas 3.0),\n",
      "(to allow more performant data types, such as the Arrow string type, and better interoperability with other libraries)\n",
      "but was not found to be installed on your system.\n",
      "If this would cause problems for you,\n",
      "please provide us feedback at https://github.com/pandas-dev/pandas/issues/54466\n",
      "        \n",
      "  import pandas as pd\n",
      "[nltk_data] Downloading package stopwords to\n",
      "[nltk_data]     /home3/fmcv76/nltk_data...\n",
      "[nltk_data]   Package stopwords is already up-to-date!\n",
      "[nltk_data] Downloading package punkt to /home3/fmcv76/nltk_data...\n",
      "[nltk_data]   Package punkt is already up-to-date!\n",
      "[nltk_data] Downloading package wordnet to /home3/fmcv76/nltk_data...\n",
      "[nltk_data]   Package wordnet is already up-to-date!\n",
      "[nltk_data] Downloading package averaged_perceptron_tagger to\n",
      "[nltk_data]     /home3/fmcv76/nltk_data...\n",
      "[nltk_data]   Package averaged_perceptron_tagger is already up-to-\n",
      "[nltk_data]       date!\n"
     ]
    }
   ],
   "source": [
    "# Import required packages \n",
    "import numpy as np\n",
    "import pandas as pd\n",
    "import re\n",
    "import nltk\n",
    "from nltk import word_tokenize\n",
    "from nltk.corpus import stopwords\n",
    "nltk.download(\"stopwords\")\n",
    "nltk.download(\"punkt\")\n",
    "nltk.download(\"wordnet\")\n",
    "from nltk.stem import WordNetLemmatizer\n",
    "nltk.download(\"averaged_perceptron_tagger\")\n",
    "from nltk import pos_tag\n",
    "from sklearn.model_selection import train_test_split\n",
    "from sklearn.feature_extraction.text import TfidfVectorizer\n",
    "from sklearn.naive_bayes import MultinomialNB\n",
    "from sklearn.model_selection import GridSearchCV\n",
    "from sklearn.pipeline import make_pipeline\n",
    "from sklearn.metrics import confusion_matrix, accuracy_score, f1_score,precision_score, recall_score, classification_report\n",
    "import seaborn as sns\n",
    "import matplotlib.pyplot as plt\n",
    "sns.set() # Use seaborn plotting style\n",
    "from sklearn.neighbors import KNeighborsClassifier\n",
    "from sklearn.model_selection import cross_val_score\n",
    "import gensim\n",
    "from gensim.models import Word2Vec\n",
    "import ast\n",
    "import pickle\n",
    "import tensorflow as tf\n",
    "from tensorflow.keras import layers, models\n"
   ]
  },
  {
   "cell_type": "code",
   "execution_count": 3,
   "metadata": {},
   "outputs": [],
   "source": [
    "# Controls \n",
    "class_balance_sampling = False\n",
    "subset_data = False\n",
    "subset_size = 50000 # Total size of the subset used for training and testing \n",
    "\n",
    "load_preprocessed_data = True\n",
    "load_precalculated_w2v_embeddings_300 = True\n",
    "load_precalculated_w2v_docs_vectorised = True\n",
    "load_precalculated_w2v_embeddings_50 = True\n",
    "load_precalculated_w2v_words_vectorised = True\n",
    "\n",
    "load_NB = True\n",
    "run_kNN = False\n",
    "load_kNN = True\n",
    "run_FFNN = False\n",
    "load_CNN = True\n",
    "load_LSTM = False\n"
   ]
  },
  {
   "cell_type": "markdown",
   "metadata": {
    "deletable": false,
    "editable": false,
    "nbgrader": {
     "cell_type": "markdown",
     "checksum": "068e2a188a6a3db5c142be9d8afbb053",
     "grade": false,
     "grade_id": "cell-7f0204ddaabf431f",
     "locked": true,
     "schema_version": 3,
     "solution": false,
     "task": false
    }
   },
   "source": [
    "## Implementation - Task 1\n",
    "Prepare the dataset by applying any pre-processing or cleaning steps that you consider as necessary. Then, split the dataset into a training set containing 70% of the samples and a test set containing 30% of the samples. Follow an appropriate strategy for the split. You must use these training/test sets for all the models in this coursework. (**10%**)"
   ]
  },
  {
   "cell_type": "code",
   "execution_count": 4,
   "metadata": {
    "deletable": false,
    "nbgrader": {
     "cell_type": "code",
     "checksum": "9d8184a650c6efb613adc101bb08baf9",
     "grade": true,
     "grade_id": "cell-1ec6ac90f0506a35",
     "locked": false,
     "points": 10,
     "schema_version": 3,
     "solution": true,
     "task": false
    }
   },
   "outputs": [],
   "source": [
    "if (load_preprocessed_data != True):\n",
    "    \n",
    "    # Import food reviews data \n",
    "    food_reviews_data = pd.read_csv(\"food_reviews.csv\")\n",
    "    \n",
    "    # Check dataframe head \n",
    "    print(food_reviews_data.head(5), \"\\n\")\n",
    "    \n",
    "    # Check dataframe shape \n",
    "    print(food_reviews_data.shape, \"\\n\")\n",
    "    \n",
    "    # Check data types \n",
    "    print(food_reviews_data.dtypes, \"\\n\")\n",
    "    \n",
    "    # Check for missing values \n",
    "    print(food_reviews_data.isna().sum())\n",
    "    \n",
    "    # Check uniqueness of Score column \n",
    "    print(food_reviews_data[\"Score\"].unique(), \"\\n\")\n",
    "    \n",
    "    # Check for duplicate rows \n",
    "    print(food_reviews_data[food_reviews_data.duplicated()].shape[0], \"\\n\")\n",
    "    \n",
    "    # Remove duplicate rows \n",
    "    food_reviews_data = food_reviews_data.drop_duplicates()\n",
    "    \n",
    "    # Recheck dataframe shape \n",
    "    print(food_reviews_data.shape, \"\\n\")\n",
    "    \n",
    "    # Concatenate Summary column with Text column to capture all available information \n",
    "    food_reviews_data[\"Text\"] = food_reviews_data[\"Summary\"].astype(str) + \" \" + food_reviews_data[\"Text\"].astype(str)\n",
    "    \n",
    "    # TODO: Decide if adding both columns together makes sense \n",
    "    \n",
    "    # Check how many rows contain html tags \n",
    "    print(food_reviews_data[\"Text\"].str.contains(r\"<.+?>\").sum(), \"\\n\")\n",
    "    \n",
    "    # Replace html tags with \" \", \" \" as opposed to \"\" to not join words unintentionally \n",
    "    food_reviews_data[\"Text\"] = food_reviews_data[\"Text\"].str.replace(r\"<.+?>\", \" \", regex = True)\n",
    "    \n",
    "    # Recheck how many rows contain html tags \n",
    "    print(food_reviews_data[\"Text\"].str.contains(r\"<.+?>\").sum(), \"\\n\")\n",
    "    \n",
    "    # Transform Text column to all lowercase \n",
    "    food_reviews_data[\"Text\"] = food_reviews_data[\"Text\"].str.lower()\n",
    "    \n",
    "    # Remove all \"-\", \".\", \"'\" and replace with \"\" e.g. lower-case to lowercase, U.K to UK, don't to dont \n",
    "    food_reviews_data[\"Text\"] = food_reviews_data[\"Text\"].str.replace(r\"[-.']\", \"\", regex = True)\n",
    "    \n",
    "    # Check how many rows include happy or sad text emojis \n",
    "    print(food_reviews_data[\"Text\"].str.contains(r\"[:][)]|[:][(]|[)][:]|[(][:]\").sum(), \"\\n\")\n",
    "    \n",
    "    # Replace happy emojis with \" happy \" \n",
    "    food_reviews_data[\"Text\"] = food_reviews_data[\"Text\"].str.replace(r\"[:][)]|[(][:]\", \" happy \", regex = True)\n",
    "    \n",
    "    # Replace sad emojis with \" sad \" \n",
    "    food_reviews_data[\"Text\"] = food_reviews_data[\"Text\"].str.replace(r\"[:][(]|[)][:]\", \" sad \", regex = True)\n",
    "    \n",
    "    # Recheck how many rows include happy or sad text emojis \n",
    "    print(food_reviews_data[\"Text\"].str.contains(r\"[:][)]|[:][(]|[)][:]|[(][:]\").sum(), \"\\n\")\n",
    "    \n",
    "    # Check how many rows include punctuation \n",
    "    print(food_reviews_data[\"Text\"].str.contains(r\"[^\\w\\s]\").sum(), \"\\n\")\n",
    "    \n",
    "    # TODO: Decide if \"'\" should be removed at this point or if some of the later steps can handle don't etc. \n",
    "    \n",
    "    # Remove punctuation \n",
    "    food_reviews_data[\"Text\"] = food_reviews_data[\"Text\"].str.replace(r\"[^\\w\\s]\", \" \", regex = True)\n",
    "    \n",
    "    # Recheck how many rows include punctuation \n",
    "    print(food_reviews_data[\"Text\"].str.contains(r\"[^\\w\\s]\").sum(), \"\\n\")\n",
    "    \n",
    "    # Check for class imbalance \n",
    "    print(food_reviews_data[\"Score\"].value_counts(), \"\\n\")\n",
    "    \n",
    "    # There is class imbalance present \n",
    "    \n",
    "    # Check dataframe head \n",
    "    print(food_reviews_data.head(5), \"\\n\")\n"
   ]
  },
  {
   "cell_type": "code",
   "execution_count": 5,
   "metadata": {},
   "outputs": [],
   "source": [
    "# FUNCTIONS FOR FILE TO LOAD IN FINAL FUNCTION \n",
    "\n",
    "# TODO: Transfer functions over \n",
    "\n",
    "def clean_text(text):\n",
    "    \"\"\"Function to clean text input to ensure input strings are processed in the same way as for \n",
    "    model train and test data.\"\"\"\n",
    "    \n",
    "    # Note: code here is different to preprocessing in the main script as the latter is for processing whole \n",
    "    # pandas series and the former is individual stings. The results are identical. \n",
    "    \n",
    "    # Check text input is a string \n",
    "    if (not isinstance(text, str)):\n",
    "        \n",
    "        raise Exception(\"text input is not a string.\")\n",
    "    \n",
    "    # Transform text to all lowercase \n",
    "    text = text.lower()\n",
    "    \n",
    "    # Remove all \"-\", \".\", \"'\" and replace with \"\" e.g. lower-case to lowercase, U.K to UK, don't to dont \n",
    "    text = re.sub(r\"[-.']\", \"\", text)\n",
    "    \n",
    "    # Replace html tags with \" \" \n",
    "    text = re.sub(r\"<.+?>\", \" \", text)\n",
    "    \n",
    "    # Replace happy emojis with \" happy \" \n",
    "    text = re.sub(r\"[:][)]|[(][:]\", \" happy \", text)\n",
    "    \n",
    "    # Replace sad emojis with \" sad \" \n",
    "    text = re.sub(r\"[:][(]|[)][:]\", \" sad \", text)\n",
    "    \n",
    "    # Remove punctuation \n",
    "    text = re.sub(r\"[^\\w\\s]\", \" \", text)\n",
    "    \n",
    "    return text\n",
    "    \n",
    "def penn_to_wordnet(penn_pos_tag):\n",
    "    \"\"\"Function to convert Penn Treeback POS tags to WordNet.\"\"\"\n",
    "    \n",
    "    tag_dictionary = {\"NN\":\"n\", \"JJ\":\"a\",\"VB\":\"v\", \"RB\":\"r\"}\n",
    "    \n",
    "    try:\n",
    "        \n",
    "        # If the first two characters of the Penn Treebank POS tag are in the tag_dictionary \n",
    "        return tag_dictionary[penn_pos_tag[:2]]\n",
    "    \n",
    "    except:\n",
    "        \n",
    "        return \"n\" # Default to Noun if no mapping available   \n",
    "    \n",
    "    \n",
    "def remove_stopwords_and_lemmatise(text):\n",
    "    \"\"\"Function to tokenise a string, remove stop words, lemmatise, and return a list of words.\"\"\"\n",
    "    \n",
    "    # Check text input is a string \n",
    "    if (not isinstance(text, str)):\n",
    "        \n",
    "        raise Exception(\"text input is not a string.\")\n",
    "    \n",
    "    # Tokenise text into words \n",
    "    words = word_tokenize(text)\n",
    "    \n",
    "    # Get list of English stop words \n",
    "    stopwords_english = stopwords.words(\"english\")\n",
    "    \n",
    "    # Remove stop words \n",
    "    words_filtered = [word for word in words if word not in stopwords_english]\n",
    "    \n",
    "    # TODO: Update to use full conversion table as opposed to simplified version \n",
    "    \n",
    "    # Apply POS tagging \n",
    "    words_pos_tagged = pos_tag(words_filtered)\n",
    "    \n",
    "    # Create a WordNetLemmatizer object \n",
    "    wnl = WordNetLemmatizer()\n",
    "    \n",
    "    # Define empty lemmas list \n",
    "    lemmas = []\n",
    "    \n",
    "    # Loop through words in sentence and lemmatise \n",
    "    for word, tag in words_pos_tagged:\n",
    "    \n",
    "        lemmas.append(wnl.lemmatize(word, pos = penn_to_wordnet(tag)))\n",
    "    \n",
    "    return lemmas\n",
    "    \n",
    "    \n",
    "def text_to_single_vector(text, w2v_word_embeddings):\n",
    "    \"\"\"Function to trasform document (a review) in the form of a list of words into a single vector \n",
    "    representation which is the average vector representation of the embedded words in the review.\"\"\"\n",
    "    \n",
    "    # Check text input is a list  \n",
    "    if (not isinstance(text, list)):\n",
    "        \n",
    "        raise Exception(\"text input is not a list.\")\n",
    "    \n",
    "    vector = sum(w2v_word_embeddings.wv[word] for word in text if word in w2v_word_embeddings.wv) / len(text)\n",
    "    \n",
    "    return vector\n",
    "    \n",
    "    \n",
    "def text_to_vectors(text, w2v_word_embeddings, max_length):\n",
    "    \"\"\"Function to trasform text (a review) in the form of a list of word embeddings into a list of \n",
    "    vector representations, one for each word in the review up until the specified max length.\"\"\"\n",
    "    \n",
    "    # Check text input is a list  \n",
    "    if (not isinstance(text, list)):\n",
    "        \n",
    "        raise Exception(\"text input is not a list.\")\n",
    "    \n",
    "    vectors_list = [w2v_word_embeddings.wv[word] for word in text if word in w2v_word_embeddings.wv]\n",
    "    \n",
    "    vectors_list = vectors_list[0:max_length]\n",
    "    \n",
    "    return vectors_list\n",
    "    \n",
    "    "
   ]
  },
  {
   "cell_type": "code",
   "execution_count": 6,
   "metadata": {},
   "outputs": [],
   "source": [
    "if (load_preprocessed_data != True):\n",
    "    \n",
    "    if (subset_data != True):\n",
    "        \n",
    "        subset_size = len(food_reviews_data)\n",
    "        \n",
    "        \n",
    "    if (class_balance_sampling != True):\n",
    "        \n",
    "        # Temporarily reduce dataframe size for developement \n",
    "        food_reviews_data = food_reviews_data[0:subset_size]\n",
    "        \n",
    "        \n",
    "    # Check for class imbalance \n",
    "    print(food_reviews_data[\"Score\"].value_counts())\n",
    "    \n",
    "    # There is class imbalance present \n",
    "    "
   ]
  },
  {
   "cell_type": "code",
   "execution_count": 7,
   "metadata": {},
   "outputs": [],
   "source": [
    "if (load_preprocessed_data != True):\n",
    "    \n",
    "    def penn_to_wordnet(penn_pos_tag):\n",
    "        \"\"\"Function to convert Penn Treeback POS tags to WordNet.\"\"\"\n",
    "        \n",
    "        tag_dictionary = {\"NN\":\"n\", \"JJ\":\"a\",\"VB\":\"v\", \"RB\":\"r\"}\n",
    "        \n",
    "        try:\n",
    "            \n",
    "            # If the first two characters of the Penn Treebank POS tag are in the tag_dictionary \n",
    "            return tag_dictionary[penn_pos_tag[:2]]\n",
    "        \n",
    "        except:\n",
    "            \n",
    "            return \"n\" # Default to Noun if no mapping available \n",
    "        \n",
    "    \n",
    "    # Get list of English stop words \n",
    "    stopwords_english = stopwords.words(\"english\")\n",
    "    \n",
    "    def remove_stopwords_and_lemmatise(text):\n",
    "        \"\"\"Function to tokenise a string, remove stop words, lemmatise, and return a list of words.\"\"\"\n",
    "        \n",
    "        # Check text input is a string \n",
    "        if (not isinstance(text, str)):\n",
    "            \n",
    "            raise Exception(\"text input is not a string.\")\n",
    "        \n",
    "        # Tokenise text into words \n",
    "        words = word_tokenize(text)\n",
    "        \n",
    "        # Remove stop words \n",
    "        words_filtered = [word for word in words if word not in stopwords_english]\n",
    "        \n",
    "        # TODO: Update to use full conversion table as opposed to simplified version \n",
    "        \n",
    "        # Apply POS tagging \n",
    "        words_pos_tagged = pos_tag(words_filtered)\n",
    "        \n",
    "        # Create a WordNetLemmatizer object \n",
    "        wnl = WordNetLemmatizer()\n",
    "        \n",
    "        # Define empty lemmas list \n",
    "        lemmas = []\n",
    "        \n",
    "        # Loop through words in sentence and lemmatise \n",
    "        for word, tag in words_pos_tagged:\n",
    "        \n",
    "            lemmas.append(wnl.lemmatize(word, pos = penn_to_wordnet(tag)))\n",
    "        \n",
    "        return lemmas\n",
    "    \n",
    "    \n",
    "    #if (class_balance_sampling != True):\n",
    "        \n",
    "        # Remove stop words from Text column \n",
    "        #food_reviews_data_tokenised = food_reviews_data[\"Text\"].apply(remove_stopwords_and_lemmatise)\n",
    "    "
   ]
  },
  {
   "cell_type": "code",
   "execution_count": 8,
   "metadata": {
    "scrolled": true
   },
   "outputs": [],
   "source": [
    "if (load_preprocessed_data != True):\n",
    "    \n",
    "    if (class_balance_sampling != True):\n",
    "        \n",
    "        # Split data into training (70%) and test (30%) splits \n",
    "        train_data, test_data, train_labels, test_labels = train_test_split(food_reviews_data[\"Text\"], food_reviews_data[\"Score\"], \n",
    "                                                                            test_size = 0.3, random_state = 123, \n",
    "                                                                            stratify = food_reviews_data[\"Score\"])\n",
    "        \n",
    "        train_labels = train_labels.tolist()\n",
    "        \n",
    "        test_labels = test_labels.tolist()\n",
    "        \n",
    "        # TODO: Decide if it should be stratified random sampling or random sampling \n",
    "        \n",
    "        # TODO: Remove the seed as it should not be used for real evaluation of model performance \n",
    "        \n",
    "        # Remove stop words from train data and lemmatise \n",
    "        train_data_tokenised = train_data.apply(remove_stopwords_and_lemmatise)\n",
    "        \n",
    "        # Join lists of lemmas to string (need both ways) \n",
    "        train_data = [\" \".join(lemmas) for lemmas in train_data_tokenised]\n",
    "        \n",
    "        # Remove stop words from test data and lemmatise \n",
    "        test_data_tokenised = test_data.apply(remove_stopwords_and_lemmatise)\n",
    "        \n",
    "        # Join lists of lemmas to string (need both ways) \n",
    "        test_data = [\" \".join(lemmas) for lemmas in test_data_tokenised]\n",
    "    "
   ]
  },
  {
   "cell_type": "code",
   "execution_count": 9,
   "metadata": {},
   "outputs": [],
   "source": [
    "if (load_preprocessed_data != True):\n",
    "    \n",
    "    # Save tokenised train data to csv \n",
    "    train_data_tokenised_csv = pd.Series(train_data_tokenised)\n",
    "    train_data_tokenised_csv.to_csv(\"train_data_tokenised.csv\")\n",
    "    \n",
    "    # Save train data to csv \n",
    "    train_data_csv = pd.DataFrame({\"Text\" : train_data, \n",
    "                                   \"Score\" : train_labels})\n",
    "    train_data_csv.to_csv(\"train_data.csv\")\n",
    "    \n",
    "    # Save tokenised test data to csv \n",
    "    test_data_tokenised_csv = pd.Series(test_data_tokenised)\n",
    "    test_data_tokenised_csv.to_csv(\"test_data_tokenised.csv\")\n",
    "    \n",
    "    # Save test data to csv \n",
    "    test_data_csv = pd.DataFrame({\"Text\" : test_data, \n",
    "                                  \"Score\" : test_labels})\n",
    "    test_data_csv.to_csv(\"test_data.csv\")\n",
    "    \n",
    "# TODO: Save using pickle instead of csv \n"
   ]
  },
  {
   "cell_type": "code",
   "execution_count": 10,
   "metadata": {},
   "outputs": [],
   "source": [
    "if (load_preprocessed_data == True):\n",
    "    \n",
    "    # Load preprocessed tokenised train data \n",
    "    train_data_tokenised = pd.read_csv(\"train_data_tokenised.csv\", index_col = 0)[\"Text\"].tolist()\n",
    "    train_data_tokenised = [ast.literal_eval(text) for text in train_data_tokenised]\n",
    "    \n",
    "    # Load preprocessed train data \n",
    "    train_data = pd.read_csv(\"train_data.csv\", index_col = 0)[\"Text\"].tolist()\n",
    "    \n",
    "    # Load train labels \n",
    "    train_labels = pd.read_csv(\"train_data.csv\", index_col = 0)[\"Score\"].tolist()\n",
    "    \n",
    "    # Load preprocessed tokenised test data \n",
    "    test_data_tokenised = pd.read_csv(\"test_data_tokenised.csv\", index_col = 0)[\"Text\"].tolist()\n",
    "    test_data_tokenised = [ast.literal_eval(text) for text in test_data_tokenised]\n",
    "    \n",
    "    # Load preprocessed test data \n",
    "    test_data = pd.read_csv(\"test_data.csv\", index_col = 0)[\"Text\"].tolist()\n",
    "    \n",
    "    # Load train labels \n",
    "    test_labels = pd.read_csv(\"test_data.csv\", index_col = 0)[\"Score\"].tolist()\n",
    "    \n",
    "# TODO: Check if any list items are empty strings \n",
    "    \n",
    "# TODO: Save using pickle instead of csv \n"
   ]
  },
  {
   "cell_type": "code",
   "execution_count": 11,
   "metadata": {},
   "outputs": [],
   "source": [
    "if (load_preprocessed_data != True):\n",
    "    \n",
    "    if (class_balance_sampling == True):\n",
    "        \n",
    "        # Define the number of samples for the test set \n",
    "        n_samples_test = round(subset_size * 0.3)\n",
    "        \n",
    "        total_samples = food_reviews_data.shape[0]\n",
    "        \n",
    "        test_size_proportion = n_samples_test / total_samples\n",
    "        \n",
    "        train_data_preclassbalanced, test_data = train_test_split(food_reviews_data, test_size = test_size_proportion, \n",
    "                                                                  random_state = 123, stratify = food_reviews_data[\"Score\"])\n",
    "    \n",
    "        test_data = test_data.reset_index(drop = True)\n",
    "        \n",
    "        test_data[\"Text\"] = test_data[\"Text\"].apply(remove_stopwords_and_lemmatise)\n",
    "        \n",
    "        # Check for class imbalance \n",
    "        print(test_data[\"Score\"].value_counts(), \"\\n\")\n",
    "        \n",
    "        # Check for class imbalance \n",
    "        print(train_data_preclassbalanced[\"Score\"].value_counts(), \"\\n\")\n",
    "        \n",
    "        n_samples_per_class = round(n_samples_test * (7 / 3) / 5)\n",
    "        \n",
    "        # TODO: Return error if not enough of any class present \n",
    "        \n",
    "        classes = train_data_preclassbalanced[\"Score\"].unique()\n",
    "        \n",
    "        sampled_class_dataframes = []\n",
    "        \n",
    "        for class_ in classes:\n",
    "            \n",
    "            class_dataframe = train_data_preclassbalanced[train_data_preclassbalanced[\"Score\"] == class_]\n",
    "            \n",
    "            sampled_class_dataframe = class_dataframe.sample(n = n_samples_per_class, random_state = 123)\n",
    "            \n",
    "            sampled_class_dataframes.append(sampled_class_dataframe)\n",
    "        \n",
    "        \n",
    "        train_data = pd.concat(sampled_class_dataframes).reset_index(drop = True)\n",
    "        \n",
    "        train_data[\"Text\"] = train_data[\"Text\"].apply(remove_stopwords_and_lemmatise)\n",
    "        \n",
    "        # Check for class imbalance \n",
    "        print(train_data[\"Score\"].value_counts(), \"\\n\")\n",
    "        \n",
    "        test_labels = test_data[\"Score\"]\n",
    "        \n",
    "        test_data = test_data[\"Text\"]\n",
    "        \n",
    "        train_labels = train_data[\"Score\"]\n",
    "        \n",
    "        train_data = train_data[\"Text\"]\n",
    "    "
   ]
  },
  {
   "cell_type": "code",
   "execution_count": 12,
   "metadata": {},
   "outputs": [
    {
     "data": {
      "image/png": "[encoded data removed]",
      "text/plain": [
       "<Figure size 800x600 with 1 Axes>"
      ]
     },
     "metadata": {
      "needs_background": "light"
     },
     "output_type": "display_data"
    }
   ],
   "source": [
    "# Visualise the frequency of Score values for the entire dataset \n",
    "all_scores = pd.Series(train_labels + test_labels)\n",
    "all_frequencies = all_scores.value_counts()\n",
    "all_frequencies = all_frequencies.reset_index()\n",
    "all_frequencies.columns = [\"Score\", \"Frequency\"]\n",
    "\n",
    "plt.figure(figsize = (8, 6), dpi = 100)\n",
    "plt.bar(all_frequencies[\"Score\"], all_frequencies[\"Frequency\"], color = \"skyblue\")\n",
    "plt.xlabel(\"Score\")\n",
    "plt.ylabel(\"Frequency\")\n",
    "plt.title(\"Frequency of Food Review Scores - Full Dataset\")\n",
    "plt.show()\n"
   ]
  },
  {
   "cell_type": "code",
   "execution_count": 13,
   "metadata": {},
   "outputs": [
    {
     "data": {
      "image/png": "[encoded data removed]",
      "text/plain": [
       "<Figure size 800x600 with 1 Axes>"
      ]
     },
     "metadata": {
      "needs_background": "light"
     },
     "output_type": "display_data"
    }
   ],
   "source": [
    "# Visualise the frequency of Score values for the train dataset \n",
    "train_scores = pd.Series(train_labels)\n",
    "train_frequencies = train_scores.value_counts()\n",
    "train_frequencies = train_frequencies.reset_index()\n",
    "train_frequencies.columns = [\"Score\", \"Frequency\"]\n",
    "\n",
    "plt.figure(figsize = (8, 6), dpi = 100)\n",
    "plt.bar(train_frequencies[\"Score\"], train_frequencies[\"Frequency\"], color = \"skyblue\")\n",
    "plt.xlabel(\"Score\")\n",
    "plt.ylabel(\"Frequency\")\n",
    "plt.title(\"Frequency of Food Review Scores - Train Dataset\")\n",
    "plt.show()\n"
   ]
  },
  {
   "cell_type": "code",
   "execution_count": 14,
   "metadata": {},
   "outputs": [
    {
     "data": {
      "image/png": "[encoded data removed]",
      "text/plain": [
       "<Figure size 800x600 with 1 Axes>"
      ]
     },
     "metadata": {
      "needs_background": "light"
     },
     "output_type": "display_data"
    }
   ],
   "source": [
    "# Visualise the frequency of Score values for the test dataset \n",
    "test_scores = pd.Series(test_labels)\n",
    "test_frequencies = test_scores.value_counts()\n",
    "test_frequencies = test_frequencies.reset_index()\n",
    "test_frequencies.columns = [\"Score\", \"Frequency\"]\n",
    "\n",
    "plt.figure(figsize = (8, 6), dpi = 100)\n",
    "plt.bar(test_frequencies[\"Score\"], test_frequencies[\"Frequency\"], color = \"skyblue\")\n",
    "plt.xlabel(\"Score\")\n",
    "plt.ylabel(\"Frequency\")\n",
    "plt.title(\"Frequency of Food Review Scores - Test Dataset\")\n",
    "plt.show()\n"
   ]
  },
  {
   "cell_type": "markdown",
   "metadata": {
    "deletable": false,
    "editable": false,
    "nbgrader": {
     "cell_type": "markdown",
     "checksum": "cee84be8ff5d30b3cc777f43b92b5b69",
     "grade": false,
     "grade_id": "cell-b691a7bc111d2ca5",
     "locked": true,
     "schema_version": 3,
     "solution": false,
     "task": false
    }
   },
   "source": [
    "## Implementation - Task 2\n",
    "Implement a Naïve Bayes model for predicting the rating of a food review. Train your model on the training set and test it on the test set. Use an appropriate text representation. (**5%**)"
   ]
  },
  {
   "cell_type": "code",
   "execution_count": 15,
   "metadata": {
    "deletable": false,
    "nbgrader": {
     "cell_type": "code",
     "checksum": "638739c81d3d084fbcc8233bbecb6b02",
     "grade": true,
     "grade_id": "cell-c7228a828210126a",
     "locked": false,
     "points": 5,
     "schema_version": 3,
     "solution": true,
     "task": false
    }
   },
   "outputs": [],
   "source": [
    "if (load_NB != True):\n",
    "    \n",
    "    # Naive Bayes model - input is converted to TF-IDF vectors and then Multinomial Naive Bayes is used \n",
    "    nb_model = make_pipeline(TfidfVectorizer(), MultinomialNB())\n",
    "    \n",
    "    # Tune model for best value of alpha (lapace smoothing parameter) using 5-fold cross-validation \n",
    "    # More coarse grid searching was undertaken initially to narrow down to the below range \n",
    "    grid = {\"multinomialnb__alpha\" : [0.01, 0.02, 0.03, 0.04, 0.05, 0.06, 0.07, 0.08, 0.09, 0.1]}\n",
    "    \n",
    "    grid_search = GridSearchCV(nb_model, grid, cv = 5, scoring = \"accuracy\")\n",
    "    \n",
    "    # TODO: Decide if F1-Score better \n",
    "    \n",
    "    # TODO: Decide if adding fit_prior to the grid search makes sense \n",
    "    \n",
    "    grid_search.fit(train_data, train_labels)\n",
    "    \n",
    "    best_alpha = grid_search.best_params_[\"multinomialnb__alpha\"]\n",
    "    \n",
    "    print(best_alpha)\n",
    "    \n",
    "    nb_model.set_params(multinomialnb__alpha = best_alpha)\n",
    "    \n",
    "    # Train model \n",
    "    nb_model.fit(train_data, train_labels)\n",
    "    \n",
    "    # Save model \n",
    "    nb_model_filename = \"nb_model.pkl\"\n",
    "    \n",
    "    with open(nb_model_filename, \"wb\") as file:\n",
    "        \n",
    "        pickle.dump(nb_model, file)\n",
    "        "
   ]
  },
  {
   "cell_type": "code",
   "execution_count": 16,
   "metadata": {},
   "outputs": [],
   "source": [
    "if (load_NB == True):\n",
    "    \n",
    "    # Load model \n",
    "    with open(\"nb_model.pkl\", \"rb\") as file:\n",
    "        \n",
    "        nb_model = pickle.load(file)\n",
    "    "
   ]
  },
  {
   "cell_type": "code",
   "execution_count": 17,
   "metadata": {},
   "outputs": [],
   "source": [
    "# Test model \n",
    "nb_predictions = nb_model.predict(test_data)\n"
   ]
  },
  {
   "cell_type": "code",
   "execution_count": 18,
   "metadata": {
    "scrolled": false
   },
   "outputs": [
    {
     "data": {
      "image/png": "[encoded data removed]",
      "text/plain": [
       "<Figure size 432x288 with 2 Axes>"
      ]
     },
     "metadata": {
      "needs_background": "light"
     },
     "output_type": "display_data"
    },
    {
     "name": "stdout",
     "output_type": "stream",
     "text": [
      "Accuracy:\t0.675708\n",
      "F1-score:\t0.305847\n",
      "Precision:\t0.494291\n",
      "Recall:\t\t0.299369\n",
      "\n",
      "Classification performance:\n",
      "              precision    recall  f1-score   support\n",
      "\n",
      "           1       0.69      0.39      0.50     10477\n",
      "           2       0.31      0.02      0.03      5976\n",
      "           3       0.43      0.05      0.09      8574\n",
      "           4       0.36      0.06      0.10     16139\n",
      "           5       0.69      0.98      0.81     72241\n",
      "\n",
      "    accuracy                           0.68    113407\n",
      "   macro avg       0.49      0.30      0.31    113407\n",
      "weighted avg       0.60      0.68      0.58    113407\n",
      "\n"
     ]
    }
   ],
   "source": [
    "# Plot the confusion matrix\n",
    "score_catagory_labels = [1, 2, 3, 4, 5]\n",
    "\n",
    "matrix = confusion_matrix(test_labels, nb_predictions)\n",
    "sns.heatmap(matrix.T, square = True, annot = True, fmt = \"d\", \n",
    "           xticklabels = score_catagory_labels, yticklabels = score_catagory_labels)\n",
    "plt.xlabel(\"True label\")\n",
    "plt.ylabel(\"Predicted label\")\n",
    "plt.show()\n",
    "\n",
    "# Compute and print classification performance metrics\n",
    "print(\"Accuracy:\\t%f\" % accuracy_score(test_labels, nb_predictions))\n",
    "print(\"F1-score:\\t%f\" % f1_score(test_labels, nb_predictions, average = \"macro\"))\n",
    "print(\"Precision:\\t%f\" % precision_score(test_labels, nb_predictions, average = \"macro\"))\n",
    "print(\"Recall:\\t\\t%f\" % recall_score(test_labels, nb_predictions, average = \"macro\"))\n",
    "print(\"\\nClassification performance:\\n%s\" % classification_report(test_labels, nb_predictions))\n"
   ]
  },
  {
   "cell_type": "markdown",
   "metadata": {
    "deletable": false,
    "editable": false,
    "nbgrader": {
     "cell_type": "markdown",
     "checksum": "3a8672a0a32389c7076c73d1de3acfb1",
     "grade": false,
     "grade_id": "cell-bd3fe708de79e951",
     "locked": true,
     "schema_version": 3,
     "solution": false,
     "task": false
    }
   },
   "source": [
    "## Implementation - Task 3\n",
    "Implement a k-Nearest Neighbours model for predicting the rating of a food review. Train your model on the training set and test it on the test set. Use an appropriate text representation. You must select the best k by examining the performance of the model for $k \\in \\{1,3,5,7\\}$, using an appropriate cross-validation approach. Create a plot for k vs. classification performance to justify your choice. (**10%**)"
   ]
  },
  {
   "cell_type": "code",
   "execution_count": 19,
   "metadata": {},
   "outputs": [],
   "source": [
    "if (load_precalculated_w2v_embeddings_300 != True):\n",
    "    \n",
    "    # Train word2vec word embedding model using train data to create denser vectors  \n",
    "    w2v_word_embeddings_300 = gensim.models.Word2Vec(train_data_tokenised, vector_size = 300, window = 5, \n",
    "                                                 min_count = 1, sg = 0, seed = 123)\n",
    "        \n",
    "    # Save word2vec word embeddings \n",
    "    w2v_word_embeddings_300.save(\"w2v_word_embeddings_300.model\")\n",
    "    \n",
    "# TODO: Explain why vector_size and window chosen \n"
   ]
  },
  {
   "cell_type": "code",
   "execution_count": 20,
   "metadata": {},
   "outputs": [],
   "source": [
    "if (load_precalculated_w2v_embeddings_300 == True):\n",
    "    \n",
    "    # Load word2vec word embeddings \n",
    "    w2v_word_embeddings_300 = Word2Vec.load(\"w2v_word_embeddings_300.model\")\n",
    "        "
   ]
  },
  {
   "cell_type": "code",
   "execution_count": 21,
   "metadata": {},
   "outputs": [],
   "source": [
    "if (run_kNN):\n",
    "    \n",
    "    def text_to_single_vector(text, w2v_word_embeddings):\n",
    "        \"\"\"Function to trasform document (a review) in the form of a list of words into a single vector \n",
    "    representation which is the average vector representation of the embedded words in the review.\"\"\"\n",
    "        \n",
    "        # Check text input is a list  \n",
    "        if (not isinstance(text, list)):\n",
    "            \n",
    "            raise Exception(\"text input is not a list.\")\n",
    "        \n",
    "        vector = sum(w2v_word_embeddings.wv[word] for word in text if word in w2v_word_embeddings.wv) / len(text)\n",
    "        \n",
    "        return vector\n"
   ]
  },
  {
   "cell_type": "code",
   "execution_count": 22,
   "metadata": {},
   "outputs": [],
   "source": [
    "if (load_precalculated_w2v_docs_vectorised != True):\n",
    "    \n",
    "    # Vectorise train data into dense vector document representations \n",
    "    train_data_w2v_docs_vectorised = [text_to_single_vector(text, w2v_word_embeddings_300) for text in train_data_tokenised]\n",
    "    \n",
    "    # Vectorise test data into dense vector document representations \n",
    "    test_data_w2v_docs_vectorised = [text_to_single_vector(text, w2v_word_embeddings_300) for text in test_data_tokenised]\n",
    "    \n",
    "    # Save vectorised document representations \n",
    "    with open(\"train_data_w2v_docs_vectorised.pkl\", \"wb\") as file:\n",
    "        \n",
    "        pickle.dump(train_data_w2v_docs_vectorised, file)\n",
    "        \n",
    "    # Save vectorised document representations \n",
    "    with open(\"test_data_w2v_docs_vectorised.pkl\", \"wb\") as file:\n",
    "        \n",
    "        pickle.dump(test_data_w2v_docs_vectorised, file)\n",
    "        "
   ]
  },
  {
   "cell_type": "code",
   "execution_count": 23,
   "metadata": {},
   "outputs": [],
   "source": [
    "if (load_precalculated_w2v_docs_vectorised == True):\n",
    "    \n",
    "    # Load vectorised document representations \n",
    "    with open(\"train_data_w2v_docs_vectorised.pkl\", \"rb\") as file:\n",
    "    \n",
    "        train_data_w2v_docs_vectorised = pickle.load(file)\n",
    "    \n",
    "    # Load vectorised document representations \n",
    "    with open(\"test_data_w2v_docs_vectorised.pkl\", \"rb\") as file:\n",
    "    \n",
    "        test_data_w2v_docs_vectorised = pickle.load(file)\n",
    "    "
   ]
  },
  {
   "cell_type": "code",
   "execution_count": 24,
   "metadata": {
    "deletable": false,
    "nbgrader": {
     "cell_type": "code",
     "checksum": "b7c5809dc4f4de2b111845abdcf40ddf",
     "grade": true,
     "grade_id": "cell-e566d393c7fac970",
     "locked": false,
     "points": 10,
     "schema_version": 3,
     "solution": true,
     "task": false
    }
   },
   "outputs": [],
   "source": [
    "if (run_kNN):\n",
    "    \n",
    "    # Values of k to test \n",
    "    k_values = [1, 3, 5, 7]\n",
    "    \n",
    "    mean_accuracies = []\n",
    "    \n",
    "    for k in k_values:\n",
    "        \n",
    "        knn_model = KNeighborsClassifier(n_neighbors = k)\n",
    "        \n",
    "        scores = cross_val_score(knn_model, train_data_w2v_docs_vectorised, train_labels, cv = 5, scoring = \"accuracy\")\n",
    "        \n",
    "        # TODO: Explain why Accuracy vs F1-Score - If doing class balanced sampling then doesn't matter, \n",
    "        # if not then F1-Score makes most sense because of class imbalance \n",
    "        \n",
    "        # TODO: Decide on if to tune for weights and metric parameters too \n",
    "        \n",
    "        mean_accuracy = scores.mean()\n",
    "        \n",
    "        mean_accuracies.append(mean_accuracy)\n",
    "        \n",
    "        \n",
    "    plt.figure(figsize = (10, 6))\n",
    "    plt.plot(k_values, mean_accuracies, marker = \"o\", linestyle = \"-\", color = \"b\")\n",
    "    plt.title(\"kNN Model Performance by Number of Neighbors\")\n",
    "    plt.xlabel(\"Number of Neighbors (k)\")\n",
    "    plt.ylabel(\"Mean Accuracy\")\n",
    "    plt.xticks(k_values)\n",
    "    plt.grid(True)\n",
    "    plt.show()\n"
   ]
  },
  {
   "cell_type": "code",
   "execution_count": 25,
   "metadata": {},
   "outputs": [],
   "source": [
    "if (run_kNN):\n",
    "    \n",
    "    if (load_kNN != True):\n",
    "        \n",
    "        # k Nearest Neighbour model - input is converted to TF-IDF vectors and then kNN is used \n",
    "        # The k value which produced the hgihest accuracy from cross-validation on the train/validation set is used \n",
    "        knn_model = KNeighborsClassifier(n_neighbors = k_values[mean_accuracies.index(max(mean_accuracies))])\n",
    "        \n",
    "        # Train model \n",
    "        knn_model.fit(train_data_w2v_docs_vectorised, train_labels)\n",
    "        \n",
    "        # Save model \n",
    "        knn_model_filename = \"knn_model.pkl\"\n",
    "        \n",
    "        with open(knn_model_filename, \"wb\") as file:\n",
    "            \n",
    "            pickle.dump(knn_model, file)\n",
    "        \n",
    "    if (load_kNN == True):\n",
    "        \n",
    "        # Load model \n",
    "        with open(\"knn_model.pkl\", \"rb\") as file:\n",
    "            \n",
    "            knn_model = pickle.load(file)\n",
    "            \n",
    "    # Test model \n",
    "    knn_predictions = knn_model.predict(test_data_w2v_docs_vectorised)\n"
   ]
  },
  {
   "cell_type": "code",
   "execution_count": 26,
   "metadata": {},
   "outputs": [],
   "source": [
    "if (run_kNN):\n",
    "    \n",
    "    # Plot the confusion matrix\n",
    "    score_catagory_labels = [1, 2, 3, 4, 5]\n",
    "    \n",
    "    matrix = confusion_matrix(test_labels, knn_predictions)\n",
    "    sns.heatmap(matrix.T, square = True, annot = True, fmt = \"d\", \n",
    "                xticklabels = score_catagory_labels, yticklabels = score_catagory_labels)\n",
    "    plt.xlabel(\"True label\")\n",
    "    plt.ylabel(\"Predicted label\")\n",
    "    plt.show()\n",
    "    \n",
    "    # Compute and print classification performance metrics\n",
    "    print(\"Accuracy:\\t%f\" % accuracy_score(test_labels, knn_predictions))\n",
    "    print(\"F1-score:\\t%f\" % f1_score(test_labels, knn_predictions, average = \"macro\"))\n",
    "    print(\"Precision:\\t%f\" % precision_score(test_labels, knn_predictions, average = \"macro\"))\n",
    "    print(\"Recall:\\t\\t%f\" % recall_score(test_labels, knn_predictions, average = \"macro\"))\n",
    "    print(\"\\nClassification performance:\\n%s\" % classification_report(test_labels, knn_predictions))\n"
   ]
  },
  {
   "cell_type": "markdown",
   "metadata": {
    "deletable": false,
    "editable": false,
    "nbgrader": {
     "cell_type": "markdown",
     "checksum": "43ad334a0b661041421fbde0c35614c1",
     "grade": false,
     "grade_id": "cell-ceb568d7b9979383",
     "locked": true,
     "schema_version": 3,
     "solution": false,
     "task": false
    }
   },
   "source": [
    "## Implementation - Task 4\n",
    "Implement a Convolutional Neural Network (CNN) model for predicting the rating of a food review. The model must have at least two convolutional layers. Train your model on the training set and test it on the test set. Use an appropriate text representation. (**13%**)"
   ]
  },
  {
   "cell_type": "code",
   "execution_count": 27,
   "metadata": {},
   "outputs": [],
   "source": [
    "if (run_FFNN == True):\n",
    "    \n",
    "    #train_data_w2v_docs_vectorised = train_data_w2v_docs_vectorised[0:50000]\n",
    "    \n",
    "    #train_labels = train_labels[0:50000]\n",
    "    \n",
    "    train_labels_minus1 = [score - 1 for score in train_labels]\n",
    "    \n",
    "    #test_data_w2v_docs_vectorised = test_data_w2v_docs_vectorised[0:10000]\n",
    "    \n",
    "    #test_labels = test_labels[0:10000]\n",
    "    \n",
    "    test_labels_minus1 = [score - 1 for score in test_labels]\n",
    "    "
   ]
  },
  {
   "cell_type": "code",
   "execution_count": 28,
   "metadata": {
    "deletable": false,
    "nbgrader": {
     "cell_type": "code",
     "checksum": "bc79d3616790883ed0539f3416cb92ad",
     "grade": true,
     "grade_id": "cell-8062f67e02d4c61f",
     "locked": false,
     "points": 13,
     "schema_version": 3,
     "solution": true,
     "task": false
    }
   },
   "outputs": [],
   "source": [
    "if (run_FFNN == True):\n",
    "    \n",
    "    embedding_size = 300\n",
    "    \n",
    "    ffnn_model = tf.keras.models.Sequential()\n",
    "    ffnn_model.add(tf.keras.Input(shape = (embedding_size, )))\n",
    "    ffnn_model.add(tf.keras.layers.Dense(128, activation = \"relu\"))\n",
    "    ffnn_model.add(tf.keras.layers.Dense(5, activation = \"softmax\"))\n",
    "\n",
    "    #ffnn_model.summary()\n",
    "    "
   ]
  },
  {
   "cell_type": "code",
   "execution_count": 29,
   "metadata": {},
   "outputs": [],
   "source": [
    "if (run_FFNN == True):\n",
    "    \n",
    "    optimiser = tf.keras.optimizers.Adam(learning_rate = 0.001)\n",
    "    \n",
    "    ffnn_model.compile(optimizer = optimiser, loss = \"sparse_categorical_crossentropy\", metrics = \"accuracy\")\n",
    "    \n",
    "    epochs = 10\n",
    "    \n",
    "    x_train = np.array(train_data_w2v_docs_vectorised)\n",
    "    y_train = np.array(train_labels_minus1)\n",
    "    x_test = np.array(test_data_w2v_docs_vectorised)\n",
    "    y_test = np.array(test_labels_minus1)\n",
    "    \n",
    "    history = ffnn_model.fit(x = x_train, y = y_train, validation_data = (x_test, y_test), epochs = epochs, verbose = 0)\n"
   ]
  },
  {
   "cell_type": "code",
   "execution_count": 30,
   "metadata": {
    "scrolled": false
   },
   "outputs": [],
   "source": [
    "if (run_FFNN == True):\n",
    "    \n",
    "    plt.style.use(\"ggplot\")\n",
    "    fig, (ax1, ax2) = plt.subplots(2, figsize = (10, 8), dpi = 100, sharex = True)\n",
    "    ax1.set_ylim([0, 1.01])\n",
    "    ax1.plot(history.history[\"val_accuracy\"],\"b\")\n",
    "    ax1.set_ylabel(\"Accuracy\")\n",
    "    ax1.plot(history.history[\"accuracy\"],\"r\")\n",
    "    ax1.legend([\"Validation\", \"Training\"])\n",
    "    ax2.set_ylim([0, 1])\n",
    "    ax2.plot(history.history[\"val_loss\"], \"b\")\n",
    "    ax2.plot(history.history[\"loss\"], \"r\")\n",
    "    ax2.set_ylabel(\"Loss\")\n",
    "    ax2.set_xlabel(\"Epochs\")\n",
    "    ax2.legend([\"Validation\",\"Training\"])\n",
    "    "
   ]
  },
  {
   "cell_type": "code",
   "execution_count": 31,
   "metadata": {},
   "outputs": [],
   "source": [
    "if (run_FFNN == True):\n",
    "    \n",
    "    # Test model \n",
    "    ffnn_predictions = ffnn_model.predict(np.array(test_data_w2v_docs_vectorised))\n",
    "    "
   ]
  },
  {
   "cell_type": "code",
   "execution_count": 32,
   "metadata": {},
   "outputs": [],
   "source": [
    "if (run_FFNN == True):\n",
    "    \n",
    "    ffnn_predictions_labels = np.argmax(ffnn_predictions, axis = 1)\n",
    "    "
   ]
  },
  {
   "cell_type": "code",
   "execution_count": 33,
   "metadata": {},
   "outputs": [],
   "source": [
    "if (run_FFNN == True):\n",
    "    \n",
    "    # Plot the confusion matrix\n",
    "    score_catagory_labels = [1, 2, 3, 4, 5]\n",
    "    \n",
    "    matrix = confusion_matrix(test_labels_minus1, ffnn_predictions_labels)\n",
    "    sns.heatmap(matrix.T, square = True, annot = True, fmt = \"d\", \n",
    "               xticklabels = score_catagory_labels, yticklabels = score_catagory_labels)\n",
    "    plt.xlabel(\"True label\")\n",
    "    plt.ylabel(\"Predicted label\")\n",
    "    plt.show()\n",
    "    \n",
    "    # Compute and print classification performance metrics\n",
    "    print(\"Accuracy:\\t%f\" % accuracy_score(test_labels_minus1, ffnn_predictions_labels))\n",
    "    print(\"F1-score:\\t%f\" % f1_score(test_labels_minus1, ffnn_predictions_labels, average = \"macro\"))\n",
    "    print(\"Precision:\\t%f\" % precision_score(test_labels_minus1, ffnn_predictions_labels, average = \"macro\"))\n",
    "    print(\"Recall:\\t\\t%f\" % recall_score(test_labels_minus1, ffnn_predictions_labels, average = \"macro\"))\n",
    "    print(\"\\nClassification performance:\\n%s\" % classification_report(test_labels_minus1, ffnn_predictions_labels))\n",
    "    "
   ]
  },
  {
   "cell_type": "code",
   "execution_count": 34,
   "metadata": {},
   "outputs": [],
   "source": [
    "# TODO: Try not removing stop words and see if that increases accuracy "
   ]
  },
  {
   "cell_type": "code",
   "execution_count": 35,
   "metadata": {},
   "outputs": [],
   "source": [
    "# Calculate the number of words in each review after preprocessing etc. \n",
    "all_data_tokenised = train_data_tokenised + test_data_tokenised\n",
    "\n",
    "n_words = [len(text) for text in all_data_tokenised]"
   ]
  },
  {
   "cell_type": "code",
   "execution_count": 36,
   "metadata": {},
   "outputs": [
    {
     "data": {
      "text/plain": [
       "count    378022.000000\n",
       "mean         43.793761\n",
       "std          41.263673\n",
       "min           2.000000\n",
       "25%          20.000000\n",
       "50%          32.000000\n",
       "75%          53.000000\n",
       "max        1974.000000\n",
       "dtype: float64"
      ]
     },
     "execution_count": 36,
     "metadata": {},
     "output_type": "execute_result"
    }
   ],
   "source": [
    "# Summary statistics for the number of words per review \n",
    "pd.Series(n_words).describe()"
   ]
  },
  {
   "cell_type": "code",
   "execution_count": 37,
   "metadata": {
    "scrolled": false
   },
   "outputs": [
    {
     "data": {
      "image/png": "[encoded data removed]",
      "text/plain": [
       "<Figure size 1000x800 with 1 Axes>"
      ]
     },
     "metadata": {
      "needs_background": "light"
     },
     "output_type": "display_data"
    },
    {
     "name": "stdout",
     "output_type": "stream",
     "text": [
      "Note: y axis limited to show only visible columns. Number of words values go as high as 1974.\n"
     ]
    }
   ],
   "source": [
    "plt.figure(figsize = (10, 8), dpi = 100)\n",
    "plt.hist(n_words, bins = range(0, 2100, 50), color = \"skyblue\", edgecolor = \"black\")\n",
    "plt.title(\"Distribution of Number of Words per Food Review after Preprocessing\")\n",
    "plt.xlabel(\"Number of Words\")\n",
    "plt.ylabel(\"Frequency\")\n",
    "plt.grid(axis = \"y\", alpha = 0.75)\n",
    "plt.xlim([-30, 400])\n",
    "plt.show()\n",
    "\n",
    "max_words = round(pd.Series(n_words).describe()[\"max\"])\n",
    "print(f\"Note: y axis limited to show only visible columns. Number of words values go as high as {max_words}.\")\n"
   ]
  },
  {
   "cell_type": "code",
   "execution_count": 38,
   "metadata": {},
   "outputs": [],
   "source": [
    "def text_to_vectors(text, w2v_word_embeddings, max_length):\n",
    "    \"\"\"Function to trasform text (a review) in the form of a list of word embeddings into a list of \n",
    "    vector representations, one for each word in the review up until the specified max length.\"\"\"\n",
    "    \n",
    "    # Check text input is a list  \n",
    "    if (not isinstance(text, list)):\n",
    "        \n",
    "        raise Exception(\"text input is not a list.\")\n",
    "    \n",
    "    vectors_list = [w2v_word_embeddings.wv[word] for word in text if word in w2v_word_embeddings.wv]\n",
    "    \n",
    "    vectors_list = vectors_list[0:max_length]\n",
    "    \n",
    "    return vectors_list\n"
   ]
  },
  {
   "cell_type": "code",
   "execution_count": 39,
   "metadata": {},
   "outputs": [],
   "source": [
    "def document_to_matrix(document, w2v_word_embeddings, max_length):\n",
    "    \"\"\"Function to trasform document (a review) in the form of a list of words into a matrix of \n",
    "    vector representations, until the specified max length.\"\"\"\n",
    "    \n",
    "    # TODO: Add checks \n",
    "    \n",
    "    matrix = np.zeros((max_length, 50))\n",
    "    \n",
    "    for i, word in enumerate(document):\n",
    "        \n",
    "        if i >= max_length:\n",
    "            \n",
    "            break\n",
    "            \n",
    "        if word in w2v_word_embeddings.wv:\n",
    "            \n",
    "            matrix[i] = w2v_word_embeddings.wv[word]\n",
    "            \n",
    "    return matrix\n",
    "    "
   ]
  },
  {
   "cell_type": "code",
   "execution_count": 40,
   "metadata": {},
   "outputs": [],
   "source": [
    "if (load_precalculated_w2v_embeddings_50 != True):\n",
    "    \n",
    "    # Train word2vec word embedding model using train data to create denser vectors  \n",
    "    w2v_word_embeddings_50 = gensim.models.Word2Vec(train_data_tokenised, vector_size = 50, window = 5, \n",
    "                                                 min_count = 1, sg = 0, seed = 123)\n",
    "        \n",
    "    # Save word2vec word embeddings \n",
    "    w2v_word_embeddings_50.save(\"w2v_word_embeddings_50.model\")\n",
    "    \n",
    "# TODO: Explain why vector_size and window chosen \n"
   ]
  },
  {
   "cell_type": "code",
   "execution_count": 41,
   "metadata": {},
   "outputs": [],
   "source": [
    "if (load_precalculated_w2v_embeddings_50 == True):\n",
    "    \n",
    "    # Load word2vec word embeddings \n",
    "    w2v_word_embeddings_50 = Word2Vec.load(\"w2v_word_embeddings_50.model\")\n",
    "        "
   ]
  },
  {
   "cell_type": "code",
   "execution_count": 42,
   "metadata": {},
   "outputs": [],
   "source": [
    "if (load_precalculated_w2v_words_vectorised != True):\n",
    "    \n",
    "    # Vectorise train data into dense vector word representations and combine into a \n",
    "    # list of dense matrix document representations\n",
    "    train_data_w2v_words_vectorised = [document_to_matrix(text, w2v_word_embeddings_50, 50) for text in train_data_tokenised]\n",
    "    \n",
    "    # Vectorise test data into dense vector word representations and combine into a \n",
    "    # list of dense matrix document representations\n",
    "    test_data_w2v_words_vectorised = [document_to_matrix(text, w2v_word_embeddings_50, 50) for text in test_data_tokenised]\n",
    "    \n",
    "    # TODO: Explain why 100 max length \n",
    "    \n",
    "    # Save vectorised word representations \n",
    "    with open(\"train_data_w2v_words_vectorised.pkl\", \"wb\") as file:\n",
    "        \n",
    "        pickle.dump(train_data_w2v_words_vectorised, file)\n",
    "        \n",
    "    # Save vectorised word representations \n",
    "    with open(\"test_data_w2v_words_vectorised.pkl\", \"wb\") as file:\n",
    "        \n",
    "        pickle.dump(test_data_w2v_words_vectorised, file)\n"
   ]
  },
  {
   "cell_type": "code",
   "execution_count": 43,
   "metadata": {},
   "outputs": [],
   "source": [
    "if (load_precalculated_w2v_words_vectorised == True): # Intentionally not running TODO: Edit \n",
    "    \n",
    "    # Load vectorised word representations \n",
    "    with open(\"train_data_w2v_words_vectorised.pkl\", \"rb\") as file:\n",
    "    \n",
    "        train_data_w2v_words_vectorised = pickle.load(file)\n",
    "    \n",
    "    # Load vectorised word representations \n",
    "    with open(\"test_data_w2v_words_vectorised.pkl\", \"rb\") as file:\n",
    "    \n",
    "        test_data_w2v_words_vectorised = pickle.load(file)\n",
    "    "
   ]
  },
  {
   "cell_type": "code",
   "execution_count": 44,
   "metadata": {},
   "outputs": [],
   "source": [
    "if (False):\n",
    "    \n",
    "    train_data_w2v_words_vectorised = train_data_w2v_words_vectorised[0:10000]\n",
    "    \n",
    "    train_labels = train_labels[0:10000]\n",
    "    \n",
    "    test_data_w2v_words_vectorised = test_data_w2v_words_vectorised[0:2000]\n",
    "    \n",
    "    test_labels = test_labels[0:2000]\n"
   ]
  },
  {
   "cell_type": "code",
   "execution_count": 45,
   "metadata": {},
   "outputs": [],
   "source": [
    "# Subset train data \n",
    "\n",
    "# Subset train labels \n",
    "\n",
    "# Subset test data \n",
    "\n",
    "# Subset test labels \n",
    "\n",
    "# CNN model \n",
    "\n",
    "# Anything from Workshop 8 \n"
   ]
  },
  {
   "cell_type": "code",
   "execution_count": 46,
   "metadata": {},
   "outputs": [],
   "source": [
    "if (load_CNN != True):\n",
    "    \n",
    "    embedding_size = (50, 50)\n",
    "    optimiser = tf.keras.optimizers.Adam(learning_rate = 0.0001)\n",
    "    \n",
    "    cnn_model = models.Sequential()\n",
    "    \n",
    "    cnn_model.add(layers.Conv1D(filters = 128, kernel_size = 5, activation = \"relu\", input_shape = embedding_size))\n",
    "    cnn_model.add(layers.MaxPooling1D(pool_size = 5))\n",
    "    cnn_model.add(layers.Conv1D(filters = 128, kernel_size = 5, activation = \"relu\"))\n",
    "    cnn_model.add(layers.GlobalMaxPooling1D())\n",
    "    cnn_model.add(layers.Dense(units = 128, activation = \"relu\"))\n",
    "    cnn_model.add(layers.Dense(5, activation = \"softmax\"))\n",
    "    \n",
    "    cnn_model.compile(loss = \"sparse_categorical_crossentropy\", optimizer = optimiser, metrics = [\"accuracy\"])\n"
   ]
  },
  {
   "cell_type": "code",
   "execution_count": 47,
   "metadata": {},
   "outputs": [],
   "source": [
    "train_labels_minus1 = [score - 1 for score in train_labels]\n",
    "\n",
    "test_labels_minus1 = [score - 1 for score in test_labels]\n",
    "\n",
    "if (load_CNN != True):\n",
    "    \n",
    "    epochs = 5\n",
    "    \n",
    "    x_train = np.array(train_data_w2v_words_vectorised)\n",
    "    y_train = np.array(train_labels_minus1)\n",
    "    \n",
    "    cnn_history = cnn_model.fit(x = x_train, y = y_train, validation_split = 0.3, epochs = epochs, verbose = 2)\n",
    "    \n",
    "    # Save model \n",
    "    cnn_model_filename = \"cnn_model.pkl\"\n",
    "    \n",
    "    with open(cnn_model_filename, \"wb\") as file:\n",
    "        \n",
    "        pickle.dump(cnn_model, file)\n",
    "        \n",
    "    # Save training history \n",
    "    cnn_model_history_filename = \"cnn_model_history.pkl\"\n",
    "    \n",
    "    with open(cnn_model_history_filename, \"wb\") as file:\n",
    "        \n",
    "        pickle.dump(cnn_history, file)\n",
    "        \n",
    "if (load_CNN == True):\n",
    "    \n",
    "    # Load model \n",
    "    with open(\"cnn_model.pkl\", \"rb\") as file:\n",
    "        \n",
    "        cnn_model = pickle.load(file)\n",
    "        \n",
    "    # Load training history \n",
    "    with open(\"cnn_model_history.pkl\", \"rb\") as file:\n",
    "        \n",
    "        cnn_history = pickle.load(file)\n",
    "        "
   ]
  },
  {
   "cell_type": "code",
   "execution_count": 48,
   "metadata": {},
   "outputs": [],
   "source": [
    "if (load_CNN != True):\n",
    "    \n",
    "    plt.style.use(\"ggplot\")\n",
    "    fig, (ax1, ax2) = plt.subplots(2, figsize = (10, 8), dpi = 100, sharex = True)\n",
    "    ax1.set_ylim([0, 1.01])\n",
    "    ax1.plot(cnn_history.history[\"val_accuracy\"], \"b\")\n",
    "    ax1.set_ylabel(\"Accuracy\")\n",
    "    ax1.plot(cnn_history.history[\"accuracy\"], \"r\")\n",
    "    ax1.legend([\"Validation\", \"Training\"])\n",
    "    ax2.set_ylim([0, 1])\n",
    "    ax2.plot(cnn_history.history[\"val_loss\"], \"b\")\n",
    "    ax2.plot(cnn_history.history[\"loss\"], \"r\")\n",
    "    ax2.set_ylabel(\"Loss\")\n",
    "    ax2.set_xlabel(\"Epochs\")\n",
    "    ax2.legend([\"Validation\", \"Training\"])\n",
    "\n",
    "# TODO: Load image in instead of having to run training and get history each time \n"
   ]
  },
  {
   "cell_type": "code",
   "execution_count": 49,
   "metadata": {},
   "outputs": [
    {
     "name": "stdout",
     "output_type": "stream",
     "text": [
      "3544/3544 [==============================] - 38s 5ms/step\n"
     ]
    }
   ],
   "source": [
    "# Test model \n",
    "cnn_predictions = cnn_model.predict(np.array(test_data_w2v_words_vectorised))\n"
   ]
  },
  {
   "cell_type": "code",
   "execution_count": 50,
   "metadata": {},
   "outputs": [],
   "source": [
    "cnn_predictions_labels = np.argmax(cnn_predictions, axis = 1)\n"
   ]
  },
  {
   "cell_type": "code",
   "execution_count": 51,
   "metadata": {},
   "outputs": [
    {
     "data": {
      "image/png": "[encoded data removed]",
      "text/plain": [
       "<Figure size 432x288 with 2 Axes>"
      ]
     },
     "metadata": {
      "needs_background": "light"
     },
     "output_type": "display_data"
    },
    {
     "name": "stdout",
     "output_type": "stream",
     "text": [
      "Accuracy:\t0.708078\n",
      "F1-score:\t0.440224\n",
      "Precision:\t0.476844\n",
      "Recall:\t\t0.434780\n",
      "\n",
      "Classification performance:\n",
      "              precision    recall  f1-score   support\n",
      "\n",
      "           0       0.56      0.68      0.61     10477\n",
      "           1       0.28      0.15      0.20      5976\n",
      "           2       0.34      0.21      0.26      8574\n",
      "           3       0.41      0.21      0.28     16139\n",
      "           4       0.80      0.93      0.86     72241\n",
      "\n",
      "    accuracy                           0.71    113407\n",
      "   macro avg       0.48      0.43      0.44    113407\n",
      "weighted avg       0.66      0.71      0.67    113407\n",
      "\n"
     ]
    }
   ],
   "source": [
    "# Plot the confusion matrix \n",
    "score_catagory_labels = [1, 2, 3, 4, 5]\n",
    "\n",
    "matrix = confusion_matrix(test_labels_minus1, cnn_predictions_labels)\n",
    "sns.heatmap(matrix.T, square = True, annot = True, fmt = \"d\", \n",
    "            xticklabels = score_catagory_labels, yticklabels = score_catagory_labels)\n",
    "plt.xlabel(\"True label\")\n",
    "plt.ylabel(\"Predicted label\")\n",
    "plt.show()\n",
    "\n",
    "# Compute and print classification performance metrics\n",
    "print(\"Accuracy:\\t%f\" % accuracy_score(test_labels_minus1, cnn_predictions_labels))\n",
    "print(\"F1-score:\\t%f\" % f1_score(test_labels_minus1, cnn_predictions_labels, average = \"macro\"))\n",
    "print(\"Precision:\\t%f\" % precision_score(test_labels_minus1, cnn_predictions_labels, average = \"macro\"))\n",
    "print(\"Recall:\\t\\t%f\" % recall_score(test_labels_minus1, cnn_predictions_labels, average = \"macro\"))\n",
    "print(\"\\nClassification performance:\\n%s\" % classification_report(test_labels_minus1, cnn_predictions_labels))\n"
   ]
  },
  {
   "cell_type": "markdown",
   "metadata": {
    "deletable": false,
    "editable": false,
    "nbgrader": {
     "cell_type": "markdown",
     "checksum": "74843fe33a4f86a21469871aac52bb90",
     "grade": false,
     "grade_id": "cell-a985e9ca1140281d",
     "locked": true,
     "schema_version": 3,
     "solution": false,
     "task": false
    }
   },
   "source": [
    "## Implementation - Task 5\n",
    "Implement a Recurrent Neural Network (RNN) or a Long Short-Term Memory (LSTM) model for predicting the rating of a food review. The model must have at least two RNN/LSTM layers. Train your model on the training set and test it on the test set. Use an appropriate text representation. (**12%**)"
   ]
  },
  {
   "cell_type": "code",
   "execution_count": 52,
   "metadata": {
    "deletable": false,
    "nbgrader": {
     "cell_type": "code",
     "checksum": "eb7179dcc099d3d51db8e0d4d4c53c7b",
     "grade": true,
     "grade_id": "cell-76f081948cba4b02",
     "locked": false,
     "points": 12,
     "schema_version": 3,
     "solution": true,
     "task": false
    }
   },
   "outputs": [],
   "source": [
    "if (load_LSTM != True):\n",
    "    \n",
    "    embedding_size = (50, 50)\n",
    "    optimiser = tf.keras.optimizers.Adam(learning_rate = 0.0001)\n",
    "    \n",
    "    lstm_model = models.Sequential()\n",
    "    \n",
    "    lstm_model.add(layers.Masking(mask_value = 0., input_shape = embedding_size))\n",
    "    lstm_model.add(layers.LSTM(units = 128, return_sequences = True))\n",
    "    lstm_model.add(layers.LSTM(units = 128))\n",
    "    lstm_model.add(layers.Dense(units = 128, activation = \"relu\"))\n",
    "    lstm_model.add(layers.Dense(5, activation = \"softmax\"))\n",
    "    \n",
    "    lstm_model.compile(loss = \"sparse_categorical_crossentropy\", optimizer = optimiser, metrics = [\"accuracy\"])\n"
   ]
  },
  {
   "cell_type": "code",
   "execution_count": 53,
   "metadata": {},
   "outputs": [
    {
     "name": "stdout",
     "output_type": "stream",
     "text": [
      "Epoch 1/5\n",
      "5789/5789 - 1219s - loss: 0.7995 - accuracy: 0.7044 - val_loss: 0.7514 - val_accuracy: 0.7168 - 1219s/epoch - 211ms/step\n",
      "Epoch 2/5\n",
      "5789/5789 - 996s - loss: 0.7379 - accuracy: 0.7230 - val_loss: 0.7440 - val_accuracy: 0.7201 - 996s/epoch - 172ms/step\n",
      "Epoch 3/5\n",
      "5789/5789 - 996s - loss: 0.7171 - accuracy: 0.7301 - val_loss: 0.7218 - val_accuracy: 0.7269 - 996s/epoch - 172ms/step\n",
      "Epoch 4/5\n",
      "5789/5789 - 997s - loss: 0.7019 - accuracy: 0.7348 - val_loss: 0.7141 - val_accuracy: 0.7291 - 997s/epoch - 172ms/step\n",
      "Epoch 5/5\n",
      "5789/5789 - 996s - loss: 0.6896 - accuracy: 0.7395 - val_loss: 0.7080 - val_accuracy: 0.7310 - 996s/epoch - 172ms/step\n"
     ]
    }
   ],
   "source": [
    "train_labels_minus1 = [score - 1 for score in train_labels]\n",
    "\n",
    "test_labels_minus1 = [score - 1 for score in test_labels]\n",
    "\n",
    "if (load_LSTM != True):\n",
    "    \n",
    "    epochs = 5\n",
    "    \n",
    "    x_train = np.array(train_data_w2v_words_vectorised)\n",
    "    y_train = np.array(train_labels_minus1)\n",
    "    \n",
    "    lstm_history = lstm_model.fit(x = x_train, y = y_train, validation_split = 0.3, epochs = epochs, verbose = 2)\n",
    "    \n",
    "    # Save model \n",
    "    lstm_model_filename = \"lstm_model.pkl\"\n",
    "    \n",
    "    with open(lstm_model_filename, \"wb\") as file:\n",
    "        \n",
    "        pickle.dump(lstm_model, file)\n",
    "        \n",
    "    # Save training history \n",
    "    lstm_model_history_filename = \"lstm_model_history.pkl\"\n",
    "    \n",
    "    with open(lstm_model_history_filename, \"wb\") as file:\n",
    "        \n",
    "        pickle.dump(lstm_history, file)\n",
    "        \n",
    "if (load_LSTM != True): # TODO: Intentionally don't load model - revert \n",
    "    \n",
    "    # Load model \n",
    "    with open(\"lstm_model.pkl\", \"rb\") as file:\n",
    "        \n",
    "        lstm_model = pickle.load(file)\n",
    "        \n",
    "    # Load training history \n",
    "    with open(\"lstm_model_history.pkl\", \"rb\") as file:\n",
    "        \n",
    "        lstm_history = pickle.load(file)\n",
    "        "
   ]
  },
  {
   "cell_type": "code",
   "execution_count": 54,
   "metadata": {},
   "outputs": [
    {
     "data": {
      "image/png": "[encoded data removed]",
      "text/plain": [
       "<Figure size 1000x800 with 2 Axes>"
      ]
     },
     "metadata": {},
     "output_type": "display_data"
    }
   ],
   "source": [
    "if (load_LSTM != True):\n",
    "    \n",
    "    plt.style.use(\"ggplot\")\n",
    "    fig, (ax1, ax2) = plt.subplots(2, figsize = (10, 8), dpi = 100, sharex = True)\n",
    "    ax1.set_ylim([0, 1.01])\n",
    "    ax1.plot(lstm_history.history[\"val_accuracy\"], \"b\")\n",
    "    ax1.set_ylabel(\"Accuracy\")\n",
    "    ax1.plot(lstm_history.history[\"accuracy\"], \"r\")\n",
    "    ax1.legend([\"Validation\", \"Training\"])\n",
    "    ax2.set_ylim([0, 1])\n",
    "    ax2.plot(lstm_history.history[\"val_loss\"], \"b\")\n",
    "    ax2.plot(lstm_history.history[\"loss\"], \"r\")\n",
    "    ax2.set_ylabel(\"Loss\")\n",
    "    ax2.set_xlabel(\"Epochs\")\n",
    "    ax2.legend([\"Validation\", \"Training\"])\n",
    "    \n",
    "# TODO: Load image in instead of having to run training and get history each time \n"
   ]
  },
  {
   "cell_type": "code",
   "execution_count": 55,
   "metadata": {},
   "outputs": [
    {
     "name": "stdout",
     "output_type": "stream",
     "text": [
      "3544/3544 [==============================] - 245s 46ms/step\n"
     ]
    }
   ],
   "source": [
    "# Test model \n",
    "lstm_predictions = lstm_model.predict(np.array(test_data_w2v_words_vectorised))\n"
   ]
  },
  {
   "cell_type": "code",
   "execution_count": 56,
   "metadata": {},
   "outputs": [],
   "source": [
    "lstm_predictions_labels = np.argmax(lstm_predictions, axis = 1)\n"
   ]
  },
  {
   "cell_type": "code",
   "execution_count": 57,
   "metadata": {
    "scrolled": false
   },
   "outputs": [
    {
     "data": {
      "image/png": "[encoded data removed]",
      "text/plain": [
       "<Figure size 432x288 with 2 Axes>"
      ]
     },
     "metadata": {},
     "output_type": "display_data"
    },
    {
     "name": "stdout",
     "output_type": "stream",
     "text": [
      "Accuracy:\t0.734849\n",
      "F1-score:\t0.463254\n",
      "Precision:\t0.539387\n",
      "Recall:\t\t0.454701\n",
      "\n",
      "Classification performance:\n",
      "              precision    recall  f1-score   support\n",
      "\n",
      "           0       0.60      0.75      0.66     10477\n",
      "           1       0.35      0.11      0.17      5976\n",
      "           2       0.45      0.25      0.32      8574\n",
      "           3       0.51      0.20      0.29     16139\n",
      "           4       0.80      0.96      0.87     72241\n",
      "\n",
      "    accuracy                           0.73    113407\n",
      "   macro avg       0.54      0.45      0.46    113407\n",
      "weighted avg       0.69      0.73      0.69    113407\n",
      "\n"
     ]
    }
   ],
   "source": [
    "# Plot the confusion matrix \n",
    "score_catagory_labels = [1, 2, 3, 4, 5]\n",
    "\n",
    "matrix = confusion_matrix(test_labels_minus1, lstm_predictions_labels)\n",
    "sns.heatmap(matrix.T, square = True, annot = True, fmt = \"d\", \n",
    "            xticklabels = score_catagory_labels, yticklabels = score_catagory_labels)\n",
    "plt.xlabel(\"True label\")\n",
    "plt.ylabel(\"Predicted label\")\n",
    "plt.show()\n",
    "\n",
    "# Compute and print classification performance metrics\n",
    "print(\"Accuracy:\\t%f\" % accuracy_score(test_labels_minus1, lstm_predictions_labels))\n",
    "print(\"F1-score:\\t%f\" % f1_score(test_labels_minus1, lstm_predictions_labels, average = \"macro\"))\n",
    "print(\"Precision:\\t%f\" % precision_score(test_labels_minus1, lstm_predictions_labels, average = \"macro\"))\n",
    "print(\"Recall:\\t\\t%f\" % recall_score(test_labels_minus1, lstm_predictions_labels, average = \"macro\"))\n",
    "print(\"\\nClassification performance:\\n%s\" % classification_report(test_labels_minus1, lstm_predictions_labels))\n"
   ]
  },
  {
   "cell_type": "markdown",
   "metadata": {
    "deletable": false,
    "editable": false,
    "nbgrader": {
     "cell_type": "markdown",
     "checksum": "c5e477712b6bad9901556381dd829392",
     "grade": false,
     "grade_id": "cell-9f3d1c8c43462384",
     "locked": true,
     "schema_version": 3,
     "solution": false,
     "task": false
    }
   },
   "source": [
    "## Implementation - Task 6\n",
    "Compute the confusion matrix, accuracy, F1-score, precision and recall for each model. (10%)"
   ]
  },
  {
   "cell_type": "code",
   "execution_count": null,
   "metadata": {
    "deletable": false,
    "nbgrader": {
     "cell_type": "code",
     "checksum": "5080f7d517214809afe68eee9318b427",
     "grade": true,
     "grade_id": "cell-b3a9e53040d493c1",
     "locked": false,
     "points": 10,
     "schema_version": 3,
     "solution": true,
     "task": false
    }
   },
   "outputs": [],
   "source": []
  },
  {
   "cell_type": "markdown",
   "metadata": {
    "deletable": false,
    "editable": false,
    "nbgrader": {
     "cell_type": "markdown",
     "checksum": "9def807c7734179b60c1d5121bbbd436",
     "grade": false,
     "grade_id": "cell-290a6e3bf464e305",
     "locked": true,
     "schema_version": 3,
     "solution": false,
     "task": false
    }
   },
   "source": [
    "## Implementation - Task 7\n",
    "Store the **four** trained models in files and implement a function `predict_food_review(text, model)` that given a <ins>text string</ins> (“`text`”) and model <ins>filename</ins> (“`model`”), it will load the pre-trained model, and predict the food review rating of the input text. The function should be able to work without requiring to rerun all or part of your code. (**10%**)"
   ]
  },
  {
   "cell_type": "code",
   "execution_count": 58,
   "metadata": {
    "deletable": false,
    "nbgrader": {
     "cell_type": "code",
     "checksum": "03a2117734166d6e91043d88d5c5ef8a",
     "grade": true,
     "grade_id": "cell-f384d017d7d6ac75",
     "locked": false,
     "points": 10,
     "schema_version": 3,
     "solution": true,
     "task": false
    }
   },
   "outputs": [],
   "source": [
    "# Function works under the assumption that all the required packages above are loaded \n",
    "\n",
    "# TODO: Decide if loading packages within the function so it is completely self contained makes sense \n",
    "\n",
    "def predict_food_review(text, model):\n",
    "    \"\"\"Function to predict the Score (1 to 5) of a food review using pretrained Naive Bayes, k Nearest Neighbours, \n",
    "    Convolutional Neural Network, and Long Short-Term Memory models. Provide input text as a string. \n",
    "    Choose models from: \"nb_model.pkl\", \"kNN_model.pkl\", \"cnn_model.pkl\", and \"lstm_model.pkl\".\"\"\"\n",
    "    \n",
    "    # TODO: Make variable and file naming consistent \n",
    "    \n",
    "    # Check text input is a string \n",
    "    if (not isinstance(text, str)):\n",
    "        \n",
    "        raise Exception(\"text input is not a string.\")\n",
    "        \n",
    "    # Check model filename input is a string \n",
    "    if (not isinstance(model, str)):\n",
    "        \n",
    "        raise Exception(\"model filename input is not a string.\")\n",
    "        \n",
    "    # Check a valid model filename input is provided \n",
    "    valid_model_filenames = [\"nb_model.pkl\", \"kNN_model.pkl\", \"cnn_model.pkl\", \"lstm_model.pkl\"]\n",
    "    \n",
    "    if (not model in valid_model_filenames):\n",
    "        \n",
    "        raise Exception(\"model filename input is not a valid option. \\nValid options include: \\n'nb_model.pkl', 'kNN_model.pkl', 'cnn_model.pkl', and 'lstm_model.pkl'\")\n",
    "    \n",
    "    # TODO: Source script containing all created functions \n",
    "    \n",
    "    #from TMLA_Assignment_Functions import clean_text, penn_to_wordnet, remove_stopwords_and_lemmatise \n",
    "    \n",
    "    # TODO: If I'm going to load fucntions in from .py file I need to import packages used within the functions \n",
    "    # within the functions in the .py file \n",
    "    \n",
    "    # Clean text in the same way as for initial train and test \n",
    "    text = clean_text(text)\n",
    "    \n",
    "    # POS tag, remove stop words, and lemmatise in the same way as for initial train and test and return a list of lemmas \n",
    "    text = remove_stopwords_and_lemmatise(text)\n",
    "    \n",
    "    # Naive Bayes \n",
    "    if (model == \"nb_model.pkl\"):\n",
    "        \n",
    "        # Join lists of lemmas to string \n",
    "        text = \" \".join(text)\n",
    "        \n",
    "        # Make text an element of a list - required for predict() \n",
    "        text = [text]\n",
    "        \n",
    "        # Load Naive Bayes model \n",
    "        with open(\"nb_model.pkl\", \"rb\") as file:\n",
    "            \n",
    "            nb_model = pickle.load(file)\n",
    "            \n",
    "        # Returns np array \n",
    "        predicted_score = nb_model.predict(text)\n",
    "        \n",
    "        # Extract element from array and convert to string \n",
    "        predicted_score = str(predicted_score.item())\n",
    "        \n",
    "        return predicted_score\n",
    "    \n",
    "    # k Nearest Neighbour \n",
    "    if (model == \"kNN_model.pkl\"):\n",
    "        \n",
    "        #from TMLA_Assignment_Functions import text_to_single_vector\n",
    "        \n",
    "        # Load word2vec word embeddings \n",
    "        w2v_word_embeddings = Word2Vec.load(\"w2v_word_embeddings.model\")\n",
    "        \n",
    "        # Vectorise text into a dense vector document representation \n",
    "        text = [text_to_single_vector(text, w2v_word_embeddings)]\n",
    "        \n",
    "        # Load k Nearest Neighbours \n",
    "        with open(\"knn_model.pkl\", \"rb\") as file:\n",
    "            \n",
    "            knn_model = pickle.load(file)\n",
    "            \n",
    "        # Returns np array \n",
    "        predicted_score = knn_model.predict(text)\n",
    "        \n",
    "        # Extract element from array and convert to string \n",
    "        predicted_score = str(predicted_score.item())\n",
    "        \n",
    "        return predicted_score\n",
    "        \n",
    "        \n",
    " "
   ]
  },
  {
   "cell_type": "markdown",
   "metadata": {
    "deletable": false,
    "editable": false,
    "nbgrader": {
     "cell_type": "markdown",
     "checksum": "66fe20bf6b18e122ab5eb3a8110ee13b",
     "grade": false,
     "grade_id": "cell-3632d0c81d039058",
     "locked": true,
     "schema_version": 3,
     "solution": false,
     "task": false
    }
   },
   "source": [
    "## Report - Task 1\n",
    "Critical discussion about the dataset (suitability, problems, class balance, etc.). (**6%**)"
   ]
  },
  {
   "cell_type": "markdown",
   "metadata": {
    "deletable": false,
    "nbgrader": {
     "cell_type": "markdown",
     "checksum": "c04a7d6b4dc1614cce18ae7dc9b59ee0",
     "grade": true,
     "grade_id": "cell-723b0c0e08ba0f30",
     "locked": false,
     "points": 6,
     "schema_version": 3,
     "solution": true,
     "task": false
    }
   },
   "source": [
    "- Dataset has 3 features and 540,031 observations - this is large enough for meaningful sentiment analysis to be undertaken and large enough that the computational complexity of data processing and modelling methods needed to be considered to prevent prohibitively long run times. \n",
    "- No missing values in Score column. \n",
    "- No missing values in Text column. \n",
    "- 27 missing values in Summary column - this doesn't really matter though because we primarily care about Text and Score. \n",
    "- No unexpected values in the Score column - only 1, 2, 3, 4, 5. \n",
    "- Dataset has 162,009 duplicate rows. \n",
    "- The Text column contains raw text which is not tokenised or preprocessed: HTML tags and punctuation which need removed, emojis such as smiley faces which need removed or transformed, and raw text containing capital letters which needs to be lowercased. \n",
    "- Class imbalance with majority of observations with a Score of 5. "
   ]
  },
  {
   "cell_type": "markdown",
   "metadata": {
    "deletable": false,
    "editable": false,
    "nbgrader": {
     "cell_type": "markdown",
     "checksum": "e16e80cbdb327b4bd8b3dc8644c93953",
     "grade": false,
     "grade_id": "cell-cf6f3bf73d0b219c",
     "locked": true,
     "schema_version": 3,
     "solution": false,
     "task": false
    }
   },
   "source": [
    "## Report - Task 2\n",
    "Description and justification of the data preparation step(s) used. (**6%**)"
   ]
  },
  {
   "cell_type": "markdown",
   "metadata": {
    "deletable": false,
    "nbgrader": {
     "cell_type": "markdown",
     "checksum": "9d827d373523a1ebd5f7adf108d5fc5e",
     "grade": true,
     "grade_id": "cell-ff3a7a6577a764fb",
     "locked": false,
     "points": 6,
     "schema_version": 3,
     "solution": true,
     "task": false
    }
   },
   "source": [
    "- Deduplication to prevent the data biasing the models due to erroneous repeated rows. \n",
    "- HTML tag removal, emoji transformation into words, lowercasing, -, ., and ' removal with no space, and punctuation removal to remove noise and non-useful information from the Text. This helps computationally because it will lead to denser vector representations of the text due to not repeating capitalised vs not versions of words etc. This was undertaken on both Summary and Text columns. \n",
    "- The Summary and Text columns were concatenated as from manual checking it was determined that the Summary column also contained useful information regarding the sentiment of reviews. \n",
    "- The text was then tokenised. \n",
    "- Stop words were removed to remove noise / potentially uniformative words and to create denser vectors making the processing and modelling less computationally intesive, given the relatively large dataset. A standard set of English stopwords was used from the NLTK package. There is potentially some drop in modelling accuracy in exchange for the reduced computational complexity as words such as \"not\", \"wasn't\" etc. were removed which could negate positive words and change the sentiment of reviews. \n",
    "- Penn Treeback POS tagging was then applied with tags subsequently converted to simpler WordNet POS tags. This simplification could result in a reduction in accuracy with only Nouns, Verbs, Adverbs, and Adjectives as classes for tagging and if no mapping was available words were defaulted to Nouns. \n",
    "- Words were then lemmatised to create denser vectors making the processing and modelling less computationally intesive, given the relatively large dataset. \n",
    "- Further processing of the tokenised / lemmatised text was then undertaken for the different representations used by the different models, with this processing detailed below. "
   ]
  },
  {
   "cell_type": "markdown",
   "metadata": {
    "deletable": false,
    "editable": false,
    "nbgrader": {
     "cell_type": "markdown",
     "checksum": "5bfd5a727276dd53f136df6d1d262fe6",
     "grade": false,
     "grade_id": "cell-0a65e991a54b21c4",
     "locked": true,
     "schema_version": 3,
     "solution": false,
     "task": false
    }
   },
   "source": [
    "## Report - Task 3\n",
    "Description and commentary on the machine learning architectures used, including a description and justification of the text representation method(s) used. (**7%**)"
   ]
  },
  {
   "cell_type": "markdown",
   "metadata": {
    "deletable": false,
    "nbgrader": {
     "cell_type": "markdown",
     "checksum": "03960b9d6fae49a8bbd6547d5c67b9fc",
     "grade": true,
     "grade_id": "cell-6c64da91adfef770",
     "locked": false,
     "points": 7,
     "schema_version": 3,
     "solution": true,
     "task": false
    }
   },
   "source": [
    "YOUR ANSWER HERE"
   ]
  },
  {
   "cell_type": "markdown",
   "metadata": {
    "deletable": false,
    "editable": false,
    "nbgrader": {
     "cell_type": "markdown",
     "checksum": "874f5d8565ae3e5a4cb52d837e4beceb",
     "grade": false,
     "grade_id": "cell-7112118f421c6a5a",
     "locked": true,
     "schema_version": 3,
     "solution": false,
     "task": false
    }
   },
   "source": [
    "## Report - Task 4\n",
    "Detailed performance evaluation of the trained machine learning models in terms of the computed performance metrics. (**5%**)"
   ]
  },
  {
   "cell_type": "markdown",
   "metadata": {
    "deletable": false,
    "nbgrader": {
     "cell_type": "markdown",
     "checksum": "071a2e19285688d52725adc2063d2044",
     "grade": true,
     "grade_id": "cell-201e49e468eaa417",
     "locked": false,
     "points": 5,
     "schema_version": 3,
     "solution": true,
     "task": false
    }
   },
   "source": [
    "YOUR ANSWER HERE"
   ]
  },
  {
   "cell_type": "markdown",
   "metadata": {
    "deletable": false,
    "editable": false,
    "nbgrader": {
     "cell_type": "markdown",
     "checksum": "ac8dc11dd7f998b7d3d5c0e904c08c5f",
     "grade": false,
     "grade_id": "cell-5e6e5b8b57811a63",
     "locked": true,
     "schema_version": 3,
     "solution": false,
     "task": false
    }
   },
   "source": [
    "## Report - Task 5\n",
    "Critical discussion on the achieved results, including potential limitations and usage instructions/suggestions. (**6%**)"
   ]
  },
  {
   "cell_type": "markdown",
   "metadata": {
    "deletable": false,
    "nbgrader": {
     "cell_type": "markdown",
     "checksum": "27dd1c5197d66c3081a133456110abb0",
     "grade": true,
     "grade_id": "cell-11c60b80d50f1d27",
     "locked": false,
     "points": 6,
     "schema_version": 3,
     "solution": true,
     "task": false
    }
   },
   "source": [
    "YOUR ANSWER HERE"
   ]
  }
 ],
 "metadata": {
  "kernelspec": {
   "display_name": "Python 3",
   "language": "python",
   "name": "python3"
  },
  "language_info": {
   "codemirror_mode": {
    "name": "ipython",
    "version": 3
   },
   "file_extension": ".py",
   "mimetype": "text/x-python",
   "name": "python",
   "nbconvert_exporter": "python",
   "pygments_lexer": "ipython3",
   "version": "3.11.6"
  }
 },
 "nbformat": 4,
 "nbformat_minor": 4
}
